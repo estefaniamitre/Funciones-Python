{
 "cells": [
  {
   "cell_type": "markdown",
   "metadata": {},
   "source": [
    "# CURSO: Análisis de funciones con Python\n",
    "\n",
    "## Sección 5: Variables\n"
   ]
  },
  {
   "cell_type": "markdown",
   "metadata": {},
   "source": [
    "### 5.1 Asignación de valores"
   ]
  },
  {
   "cell_type": "code",
   "execution_count": null,
   "metadata": {
    "collapsed": true
   },
   "outputs": [],
   "source": [
    "a=2\n",
    "b=3\n",
    "c= a + b\n",
    "\n",
    "print(c)"
   ]
  },
  {
   "cell_type": "code",
   "execution_count": null,
   "metadata": {
    "collapsed": true
   },
   "outputs": [],
   "source": [
    "numero=2\n",
    "numero=numero+1\n",
    "\n",
    "numero"
   ]
  },
  {
   "cell_type": "code",
   "execution_count": 61,
   "metadata": {},
   "outputs": [
    {
     "data": {
      "text/plain": [
       "8"
      ]
     },
     "execution_count": 61,
     "metadata": {},
     "output_type": "execute_result"
    }
   ],
   "source": [
    "a=2\n",
    "a*=3\n",
    "\n",
    "a"
   ]
  },
  {
   "cell_type": "code",
   "execution_count": null,
   "metadata": {
    "collapsed": true
   },
   "outputs": [],
   "source": [
    "x = 3\n",
    "y = 5\n",
    "x = y\n",
    "\n",
    "print(x)\n",
    "print(y)"
   ]
  },
  {
   "cell_type": "markdown",
   "metadata": {},
   "source": [
    "Sean $x=2$ y $y=3.7777$. Calcular:\n",
    "\n",
    "a)\n",
    "$$x^2+\\frac{x+2y}{3xy}-7.  \\hspace{3cm} R. -2.5784295559026216$$\n",
    "b)\n",
    "$$(x-y^2)^2+\\left(\\frac{xy}{3x-y}-4^x\\right)^3.$$\n",
    "c)\n",
    "$$\\sqrt[3]{y^2+x^3} + \\frac{1}{\\frac{1}{x}+\\frac{1}{y}}.$$"
   ]
  },
  {
   "cell_type": "code",
   "execution_count": null,
   "metadata": {
    "collapsed": true
   },
   "outputs": [],
   "source": [
    "x=2\n",
    "y=3.7777\n",
    "\n",
    "x**2+(x+2*y)/(3*x*y)-7"
   ]
  },
  {
   "cell_type": "markdown",
   "metadata": {},
   "source": [
    "### 5.2  Desplegar ecuaciones"
   ]
  },
  {
   "cell_type": "code",
   "execution_count": 37,
   "metadata": {
    "collapsed": true
   },
   "outputs": [],
   "source": [
    "from IPython.display import display, Math"
   ]
  },
  {
   "cell_type": "code",
   "execution_count": 141,
   "metadata": {},
   "outputs": [
    {
     "data": {
      "text/latex": [
       "$$x^2+y^2=2^2 + 5^2 = 29$$"
      ],
      "text/plain": [
       "<IPython.core.display.Math object>"
      ]
     },
     "metadata": {},
     "output_type": "display_data"
    }
   ],
   "source": [
    "x = 2\n",
    "y = 5\n",
    "\n",
    "resul = x**2+y**2\n",
    "\n",
    "display(Math('x^2+y^2=%g^2 + %g^2 = %g' %(x,y,resul)))"
   ]
  },
  {
   "cell_type": "code",
   "execution_count": 45,
   "metadata": {},
   "outputs": [
    {
     "data": {
      "text/latex": [
       "$$\\frac{1}{\\frac{1}{a} + \\frac{1}{b}}=\\frac{1}{\\frac{1}{2} + \\frac{1}{5}}= 1.428571$$"
      ],
      "text/plain": [
       "<IPython.core.display.Math object>"
      ]
     },
     "metadata": {},
     "output_type": "display_data"
    }
   ],
   "source": [
    "a = 2\n",
    "b = 5\n",
    "\n",
    "resul = 1/(1/a + 1/b)\n",
    "\n",
    "display(Math('\\\\frac{1}{\\\\frac{1}{a} + \\\\frac{1}{b}}=\\\\frac{1}{\\\\frac{1}{%g} + \\\\frac{1}{%g}}= %f' %(a,b,resul)))\n",
    "\n",
    "\n",
    "#placeholders\n",
    "# %s  generic string\n",
    "# %d  decimal int\n",
    "# %g  generic num\n",
    "# %f  float num\n"
   ]
  }
 ],
 "metadata": {
  "kernelspec": {
   "display_name": "Python [default]",
   "language": "python",
   "name": "python3"
  },
  "language_info": {
   "codemirror_mode": {
    "name": "ipython",
    "version": 3
   },
   "file_extension": ".py",
   "mimetype": "text/x-python",
   "name": "python",
   "nbconvert_exporter": "python",
   "pygments_lexer": "ipython3",
   "version": "3.5.3"
  }
 },
 "nbformat": 4,
 "nbformat_minor": 2
}

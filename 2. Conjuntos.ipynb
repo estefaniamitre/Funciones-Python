{
 "cells": [
  {
   "cell_type": "markdown",
   "metadata": {},
   "source": [
    "# CURSO: Análisis de funciones con Python\n",
    "\n",
    "## Sección 2: Conjuntos \n"
   ]
  },
  {
   "cell_type": "markdown",
   "metadata": {},
   "source": [
    "### 2.1 Cadenas\n",
    "\n",
    "$$A=\\{a,b,c\\}$$ "
   ]
  },
  {
   "cell_type": "code",
   "execution_count": null,
   "metadata": {
    "collapsed": true
   },
   "outputs": [],
   "source": [
    "A={'a','b','c'}\n",
    "\n",
    "print(A)\n",
    "print(type(A))\n",
    "type('a')"
   ]
  },
  {
   "cell_type": "code",
   "execution_count": null,
   "metadata": {
    "collapsed": true
   },
   "outputs": [],
   "source": [
    "B={1,2,3}\n",
    "\n",
    "#agregar elemento\n",
    "B.add(4)\n",
    "\n",
    "print(B)\n"
   ]
  },
  {
   "cell_type": "code",
   "execution_count": null,
   "metadata": {
    "collapsed": true
   },
   "outputs": [],
   "source": [
    "C = {\"a\", \"b\" , \"c\"}\n",
    "D = {1, 2, 3}\n",
    "\n",
    "#union de conjuntos \n",
    "E = D.union(C)\n",
    "print(E)"
   ]
  },
  {
   "cell_type": "code",
   "execution_count": null,
   "metadata": {
    "collapsed": true
   },
   "outputs": [],
   "source": [
    "y=\"SEPI-ESE-IPN\"\n",
    "\n",
    "type(y)"
   ]
  },
  {
   "cell_type": "code",
   "execution_count": null,
   "metadata": {
    "collapsed": true
   },
   "outputs": [],
   "source": [
    "y =  'Hola \\n  mundo!'\n",
    "\n",
    "#raw\n",
    "z = r'Hola \\n  mundo!'\n",
    "\n",
    "print(y)\n",
    "print(z)"
   ]
  },
  {
   "cell_type": "markdown",
   "metadata": {},
   "source": [
    "### 2.2 Números enteros \n",
    "\n",
    "$$\\mathbb{Z}=\\{...,-3,-2,-1,0,1,2,3,...\\}$$ "
   ]
  },
  {
   "cell_type": "code",
   "execution_count": null,
   "metadata": {
    "collapsed": true
   },
   "outputs": [],
   "source": [
    "x=-23\n",
    "\n",
    "type(x)"
   ]
  },
  {
   "cell_type": "markdown",
   "metadata": {},
   "source": [
    "### 2.3 Números racionales \n",
    "\n",
    "$$\\mathbb{Q}=\\{\\frac{m}{n}:m,n\\in \\mathbb{Z}, n\\neq 0\\}$$ "
   ]
  },
  {
   "cell_type": "code",
   "execution_count": null,
   "metadata": {
    "collapsed": true
   },
   "outputs": [],
   "source": [
    "x=-1/2\n",
    "\n",
    "type(x)"
   ]
  },
  {
   "cell_type": "code",
   "execution_count": null,
   "metadata": {
    "collapsed": true
   },
   "outputs": [],
   "source": [
    "#Notación científica: 0.1e-3 = 0.1 x 0.001 = 0.0001\n",
    "y=0.1e-3\n",
    "\n",
    "type(y)"
   ]
  },
  {
   "cell_type": "markdown",
   "metadata": {},
   "source": [
    "### 2.4 Números complejos\n",
    "\n",
    "$$\\mathbb{C}=\\{a+ib:a, b \\in \\mathbb{R}\\}$$ "
   ]
  },
  {
   "cell_type": "code",
   "execution_count": null,
   "metadata": {
    "collapsed": true
   },
   "outputs": [],
   "source": [
    "x=2+3j\n",
    "y=3-2j\n",
    "\n",
    "type(x)"
   ]
  }
 ],
 "metadata": {
  "kernelspec": {
   "display_name": "Python [default]",
   "language": "python",
   "name": "python3"
  },
  "language_info": {
   "codemirror_mode": {
    "name": "ipython",
    "version": 3
   },
   "file_extension": ".py",
   "mimetype": "text/x-python",
   "name": "python",
   "nbconvert_exporter": "python",
   "pygments_lexer": "ipython3",
   "version": "3.5.3"
  }
 },
 "nbformat": 4,
 "nbformat_minor": 2
}

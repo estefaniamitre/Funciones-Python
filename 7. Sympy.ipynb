{
 "cells": [
  {
   "cell_type": "markdown",
   "metadata": {
    "collapsed": true
   },
   "source": [
    "# CURSO: Análisis de funciones con Python\n",
    "\n",
    "## Sección 7: Sympy\n",
    "\n",
    "https://docs.sympy.org/latest/tutorial/index.html"
   ]
  },
  {
   "cell_type": "code",
   "execution_count": null,
   "metadata": {
    "collapsed": true
   },
   "outputs": [],
   "source": [
    "# importar la libreria sympy\n",
    "import sympy as sym\n",
    "\n",
    "# importar funciones para desplegar expresiones matemáticas\n",
    "from IPython.display import display, Math"
   ]
  },
  {
   "cell_type": "markdown",
   "metadata": {},
   "source": [
    "Variables numéricas"
   ]
  },
  {
   "cell_type": "code",
   "execution_count": null,
   "metadata": {
    "collapsed": true
   },
   "outputs": [],
   "source": [
    "x = 2\n",
    "y = 5\n",
    "\n",
    "resul = x**2+y**2\n",
    "\n",
    "display(Math('x^2+y^2=%g^2 + %g^2 = %g' %(x,y,resul)))"
   ]
  },
  {
   "cell_type": "code",
   "execution_count": null,
   "metadata": {
    "collapsed": true
   },
   "outputs": [],
   "source": [
    "display(Math('\\\\frac{4+5x^2}{(1+x)(1-x)}'))"
   ]
  },
  {
   "cell_type": "markdown",
   "metadata": {},
   "source": [
    "Variables simbólicas"
   ]
  },
  {
   "cell_type": "code",
   "execution_count": null,
   "metadata": {
    "collapsed": true
   },
   "outputs": [],
   "source": [
    "x,y = sym.symbols('x, y')"
   ]
  },
  {
   "cell_type": "code",
   "execution_count": null,
   "metadata": {
    "collapsed": true
   },
   "outputs": [],
   "source": [
    "x + 4 + x"
   ]
  },
  {
   "cell_type": "code",
   "execution_count": null,
   "metadata": {
    "collapsed": true
   },
   "outputs": [],
   "source": [
    "(x**2-1)/(x-1)"
   ]
  },
  {
   "cell_type": "code",
   "execution_count": null,
   "metadata": {
    "collapsed": true
   },
   "outputs": [],
   "source": [
    "(2*x +1)*x"
   ]
  },
  {
   "cell_type": "code",
   "execution_count": null,
   "metadata": {
    "collapsed": true
   },
   "outputs": [],
   "source": [
    "#simbolo\n",
    "display(sym.sqrt(2)) \n",
    "\n",
    "display(sym.pi) \n",
    "\n",
    "display(sym.exp(1))\n",
    "\n",
    "(sym.sqrt(2) + sym.pi + sym.exp(1)).evalf()"
   ]
  },
  {
   "cell_type": "markdown",
   "metadata": {},
   "source": [
    "Simplificar"
   ]
  },
  {
   "cell_type": "code",
   "execution_count": null,
   "metadata": {
    "collapsed": true
   },
   "outputs": [],
   "source": [
    "ex=(x**2-1)/(x-1)\n",
    "\n",
    "sym.simplify(ex) "
   ]
  },
  {
   "cell_type": "code",
   "execution_count": null,
   "metadata": {
    "collapsed": true
   },
   "outputs": [],
   "source": [
    "ex=(x**2*y)*(x**(-1)*y**(3))\n",
    "\n",
    "sym.simplify(ex) "
   ]
  },
  {
   "cell_type": "code",
   "execution_count": null,
   "metadata": {
    "collapsed": true
   },
   "outputs": [],
   "source": [
    "sym.init_printing()  #para desplegar expresiones matemáticas (basta ejecutar una vez)"
   ]
  },
  {
   "cell_type": "code",
   "execution_count": 21,
   "metadata": {},
   "outputs": [
    {
     "data": {
      "text/plain": [
       "(x**3 - y**3)/(x - y)"
      ]
     },
     "metadata": {},
     "output_type": "display_data"
    },
    {
     "name": "stdout",
     "output_type": "stream",
     "text": [
      "(x**3 - y**3)/(x - y)\n",
      "\\frac{x^{3} - y^{3}}{x - y}\n"
     ]
    }
   ],
   "source": [
    "ex=(x**3-y**3)/(x-y)\n",
    "\n",
    "z= sym.simplify(ex)\n",
    "\n",
    "display(z)\n",
    "\n",
    "print(z)\n",
    "\n",
    "print( sym.latex(z))  # imprime el código para latex"
   ]
  },
  {
   "cell_type": "markdown",
   "metadata": {},
   "source": [
    "Expandir"
   ]
  },
  {
   "cell_type": "code",
   "execution_count": null,
   "metadata": {
    "collapsed": true
   },
   "outputs": [],
   "source": [
    "sym.expand((x+y)**3)"
   ]
  },
  {
   "cell_type": "markdown",
   "metadata": {},
   "source": [
    "Factorizar "
   ]
  },
  {
   "cell_type": "code",
   "execution_count": null,
   "metadata": {
    "collapsed": true
   },
   "outputs": [],
   "source": [
    "sym.factor(x**3 - x**2 + x - 1)"
   ]
  },
  {
   "cell_type": "markdown",
   "metadata": {},
   "source": [
    "Fracciones parciales"
   ]
  },
  {
   "cell_type": "code",
   "execution_count": null,
   "metadata": {
    "collapsed": true
   },
   "outputs": [],
   "source": [
    "x=sym.symbols('x')\n",
    "\n",
    "ex= x/((x+1)*(x+2))\n",
    "\n",
    "display(ex)\n",
    "\n",
    "z= sym.apart(ex, x)\n",
    "\n",
    "display(z)\n",
    "\n",
    "print( sym.latex(z))"
   ]
  },
  {
   "cell_type": "markdown",
   "metadata": {},
   "source": [
    "Evaluar"
   ]
  },
  {
   "cell_type": "code",
   "execution_count": null,
   "metadata": {
    "collapsed": true
   },
   "outputs": [],
   "source": [
    "x= sym.symbols('x')\n",
    "\n",
    "(x**2+1).subs(x,2)"
   ]
  },
  {
   "cell_type": "code",
   "execution_count": null,
   "metadata": {
    "collapsed": true
   },
   "outputs": [],
   "source": [
    "y= sym.symbols('y')\n",
    "\n",
    "\n",
    "u = x**2+y**2\n",
    "\n",
    "display(v)\n",
    "\n",
    "v=u.subs({x:2,y:3})\n",
    "\n",
    "display(v)\n"
   ]
  },
  {
   "cell_type": "code",
   "execution_count": null,
   "metadata": {
    "collapsed": true
   },
   "outputs": [],
   "source": [
    "for i in range(-2,3):\n",
    "    ans = (x+4).subs(x,i**2)\n",
    "    if i < 2:\n",
    "        display(Math('\\\\text{Para }x=%g:\\; x^2+4 \\\\quad = \\\\quad %g^2+4 =%g,' %(i,i,ans)))\n",
    "    else:\n",
    "        display(Math('\\\\text{Para }x=%g:\\; x^2+4 \\\\quad = \\\\quad %g^2+4 =%g.' %(i,i,ans)))\n",
    "        "
   ]
  },
  {
   "cell_type": "markdown",
   "metadata": {},
   "source": [
    "Solución de ecuaciones"
   ]
  },
  {
   "cell_type": "code",
   "execution_count": null,
   "metadata": {
    "collapsed": true
   },
   "outputs": [],
   "source": [
    "x = sym.symbols('x')\n",
    "\n",
    "\n",
    "expr = 2*x + 4 -9\n",
    "\n",
    "# Resolvemos 2x+4=9\n",
    "sol = sym.solve(expr,x)\n",
    "\n",
    "display(sol)\n",
    "\n",
    "display(Math('\\\\text{La solución de la ecuación } %s=0 \\\\text{ es }x=%s.' %(sym.latex(expr),sol[0])))"
   ]
  },
  {
   "cell_type": "code",
   "execution_count": null,
   "metadata": {
    "collapsed": true
   },
   "outputs": [],
   "source": [
    "ex = x**2 - 2*x - 8\n",
    "\n",
    "sol=sym.solve(ex, x)\n",
    "\n",
    "print(sol)\n",
    "\n",
    "display(Math('\\\\text{Las soluciones de la ecuación } %s=0 \\\\text{ son } %s.'%(sym.latex(ex),set(sol))))"
   ]
  },
  {
   "cell_type": "code",
   "execution_count": null,
   "metadata": {
    "collapsed": true
   },
   "outputs": [],
   "source": [
    "q = sym.symbols('q')\n",
    "\n",
    "eq = 3*q + 4/q + 3 - 5*q - 1/q - 1\n",
    "\n",
    "display(Math(sym.latex(eq.simplify()))) \n",
    "\n",
    "display(Math('q='+sym.latex(sym.solve(eq,q))))"
   ]
  },
  {
   "cell_type": "markdown",
   "metadata": {},
   "source": [
    "Ver símbolos definidos"
   ]
  },
  {
   "cell_type": "code",
   "execution_count": null,
   "metadata": {
    "collapsed": true
   },
   "outputs": [],
   "source": [
    "%whos"
   ]
  },
  {
   "cell_type": "markdown",
   "metadata": {},
   "source": [
    "Suma de polinomios"
   ]
  },
  {
   "cell_type": "code",
   "execution_count": 26,
   "metadata": {},
   "outputs": [
    {
     "name": "stdout",
     "output_type": "stream",
     "text": [
      "-x**4 + 3*x**3 - 3*x**2 - x\n"
     ]
    },
    {
     "data": {
      "text/latex": [
       "$$(2 x^{3} + x^{2} - x) + (- x^{4} + x^{3} - 4 x^{2}) \\quad=\\quad (- x^{4} + 3 x^{3} - 3 x^{2} - x)$$"
      ],
      "text/plain": [
       "<IPython.core.display.Math object>"
      ]
     },
     "metadata": {},
     "output_type": "display_data"
    }
   ],
   "source": [
    "from sympy.abc import x\n",
    "\n",
    "# straight-forward version\n",
    "p1 = 2*x**3 + x**2 - x\n",
    "p2 = x**3 - x**4 - 4*x**2\n",
    "print( p1+p2 )\n",
    "\n",
    "display(Math('(%s) + (%s) \\quad=\\quad (%s)' %(sym.latex(p1),sym.latex(p2),sym.latex(p1+p2) )))"
   ]
  }
 ],
 "metadata": {
  "kernelspec": {
   "display_name": "Python [conda env:Anaconda3]",
   "language": "python",
   "name": "conda-env-Anaconda3-py"
  },
  "language_info": {
   "codemirror_mode": {
    "name": "ipython",
    "version": 3
   },
   "file_extension": ".py",
   "mimetype": "text/x-python",
   "name": "python",
   "nbconvert_exporter": "python",
   "pygments_lexer": "ipython3",
   "version": "3.5.3"
  }
 },
 "nbformat": 4,
 "nbformat_minor": 2
}

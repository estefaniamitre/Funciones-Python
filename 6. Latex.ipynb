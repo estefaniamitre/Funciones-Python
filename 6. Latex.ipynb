{
 "cells": [
  {
   "cell_type": "markdown",
   "metadata": {
    "collapsed": true
   },
   "source": [
    "# CURSO: Análisis de funciones con Python\n",
    "\n",
    "## Sección 6: LaTex\n",
    "\n",
    "\n",
    "Editor de texto: https://www.texstudio.org/\n",
    "\n",
    "Algunas referencias:\n",
    "1. https://www.springer.com/gp/book/9783319237954  \n",
    "2. https://www.mobt3ath.com/uplode/book/book-20569.pdf\n",
    "3. https://www.overleaf.com/latex/templates\n",
    "\n"
   ]
  },
  {
   "cell_type": "markdown",
   "metadata": {},
   "source": [
    "### 5.1 Expresiones matemáticas\n",
    "\n"
   ]
  },
  {
   "cell_type": "markdown",
   "metadata": {},
   "source": [
    "Sumatoria"
   ]
  },
  {
   "cell_type": "markdown",
   "metadata": {},
   "source": [
    "$$\\sum_{i=1}^{3}(5i+2)=?$$"
   ]
  },
  {
   "cell_type": "markdown",
   "metadata": {},
   "source": [
    "$$\\|x\\|_p = \\left(\\sum_{i=1}^{n}|x_i|^p\\right)^{1/p}$$"
   ]
  },
  {
   "cell_type": "markdown",
   "metadata": {},
   "source": [
    "Función por casos"
   ]
  },
  {
   "cell_type": "markdown",
   "metadata": {},
   "source": [
    "\\begin{equation} f(x)= \\begin{cases} -x^{2}, &\\text{si $x < 0$;}\\\\ 1 + x, &\\text{si $0 \\leq x \\leq 1$;}\\\\ x^{2}, &\\text{en otro caso.} \\end{cases} \\end{equation} "
   ]
  },
  {
   "cell_type": "markdown",
   "metadata": {},
   "source": [
    "Límites "
   ]
  },
  {
   "cell_type": "markdown",
   "metadata": {},
   "source": [
    "$$ \\lim_{x \\rightarrow x_0} \\frac{2x^2-x+1}{3x^2-x-1}=?$$"
   ]
  },
  {
   "cell_type": "markdown",
   "metadata": {},
   "source": [
    "Derivadas"
   ]
  },
  {
   "cell_type": "markdown",
   "metadata": {},
   "source": [
    "$$ f'(x_0)=\\lim_{h \\rightarrow 0} \\frac{f(x_0+h)-f(x_0)}{h}=\\lim_{x \\rightarrow x_0} \\frac{f(x)-f(x_0)}{x-x_0} $$"
   ]
  },
  {
   "cell_type": "markdown",
   "metadata": {},
   "source": [
    "Integrales"
   ]
  },
  {
   "cell_type": "markdown",
   "metadata": {},
   "source": [
    "\\begin{equation}  \n",
    "\\int_{-\\infty}^{\\infty} e^{-x^2}dx = \\sqrt{\\pi}  \n",
    "\\end{equation}"
   ]
  },
  {
   "cell_type": "markdown",
   "metadata": {},
   "source": [
    "$$\\|f\\|_p = \\left(\\int_a^b|f(x)|^pdx\\right)^{1/p}$$"
   ]
  },
  {
   "cell_type": "markdown",
   "metadata": {},
   "source": [
    "Matrices "
   ]
  },
  {
   "cell_type": "markdown",
   "metadata": {},
   "source": [
    "$$ \n",
    "A= \\begin{pmatrix}\n",
    "    1 & 2 & 3\\\\\n",
    "    a & b & c\n",
    "   \\end{pmatrix}\n",
    "$$"
   ]
  },
  {
   "cell_type": "markdown",
   "metadata": {},
   "source": [
    "Ecuaciones alineadas"
   ]
  },
  {
   "cell_type": "markdown",
   "metadata": {},
   "source": [
    "$$\n",
    "\\begin{array} {lcl}  \n",
    "(a+b)^2 & = & (a+b)(a+b) \\\\\n",
    "        & = & aa + ab + ba + bb\\\\\n",
    "        & = & a^2 + 2ab + b^2\n",
    "\\end{array}\n",
    "$$"
   ]
  }
 ],
 "metadata": {
  "kernelspec": {
   "display_name": "Python [conda env:Anaconda3]",
   "language": "python",
   "name": "conda-env-Anaconda3-py"
  },
  "language_info": {
   "codemirror_mode": {
    "name": "ipython",
    "version": 3
   },
   "file_extension": ".py",
   "mimetype": "text/x-python",
   "name": "python",
   "nbconvert_exporter": "python",
   "pygments_lexer": "ipython3",
   "version": "3.5.3"
  }
 },
 "nbformat": 4,
 "nbformat_minor": 2
}
